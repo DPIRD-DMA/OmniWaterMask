{
 "cells": [
  {
   "cell_type": "code",
   "execution_count": 1,
   "metadata": {},
   "outputs": [],
   "source": [
    "from omniwatermask import extract_water\n",
    "from pathlib import Path\n",
    "from s2mosaic import mosaic"
   ]
  },
  {
   "cell_type": "code",
   "execution_count": 2,
   "metadata": {},
   "outputs": [],
   "source": [
    "import logging\n",
    "\n",
    "logging.basicConfig(level=logging.INFO)"
   ]
  },
  {
   "cell_type": "markdown",
   "metadata": {},
   "source": [
    "Use s2mosaic to create a cloud and cloud shadow free Sentinel-2 mosaic\n"
   ]
  },
  {
   "cell_type": "code",
   "execution_count": 3,
   "metadata": {},
   "outputs": [],
   "source": [
    "mosaic_path = mosaic(\n",
    "    grid_id=\"16TCP\",\n",
    "    start_year=2022,\n",
    "    start_month=6,\n",
    "    duration_months=2,\n",
    "    output_dir=Path(\"example\"),\n",
    "    required_bands=[\"B04\", \"B03\", \"B02\", \"B08\"],  # OWM requires RGB+NIR bands\n",
    "    overwrite=False,\n",
    ")"
   ]
  },
  {
   "cell_type": "markdown",
   "metadata": {},
   "source": [
    "Run the water inference\n"
   ]
  },
  {
   "cell_type": "code",
   "execution_count": 4,
   "metadata": {},
   "outputs": [
    {
     "data": {
      "application/vnd.jupyter.widget-view+json": {
       "model_id": "0810493776944428a27d7a83be22d760",
       "version_major": 2,
       "version_minor": 0
      },
      "text/plain": [
       "Using mps:   0%|          | 0/1 [00:00<?, ?it/s]"
      ]
     },
     "metadata": {},
     "output_type": "display_data"
    },
    {
     "name": "stderr",
     "output_type": "stream",
     "text": [
      "INFO:root:Exporting to example/16TCP_2022-06-01_to_2022-08-01_valid_data_mean_B04_B03_B02_B08_OmniWaterMask_0.1.2.tif\n",
      "INFO:root:Processing 16TCP_2022-06-01_to_2022-08-01_valid_data_mean_B04_B03_B02_B08.tif\n",
      "INFO:root:Predicting water mask for 16TCP_2022-06-01_to_2022-08-01_valid_data_mean_B04_B03_B02_B08.tif\n",
      "INFO:root:Integrating water detection methods\n",
      "INFO:root:Building vector prior in thread\n",
      "INFO:root:Building negative priors in thread\n",
      "INFO:root:Found matching GeoDataFrame in cache\n",
      "INFO:root:Predicting water mask using custom model\n",
      "INFO:root:Loading GeoDataFrame from /Users/nick/Documents/Work code/OmniWaterMask/water_vectors_cache/gdfs/e40e71d2-0486-4162-a2d5-46c4ea5144f9.parquet\n",
      "INFO:root:No matching GeoDataFrame found in cache\n"
     ]
    },
    {
     "name": "stdout",
     "output_type": "stream",
     "text": [
      "True False False\n",
      "False True True\n"
     ]
    },
    {
     "name": "stderr",
     "output_type": "stream",
     "text": [
      "INFO:root:Combining vector priors\n",
      "INFO:root:Number of non point features: 316354\n",
      "INFO:root:Buffering line features\n",
      "INFO:root:Added GeoDataFrame to cache\n",
      "INFO:root:Waiting for vector priors to finish\n",
      "INFO:root:Waiting for negative priors to finish\n",
      "INFO:root:Optimising NDWI\n",
      "INFO:root:Multi-scale optimisation accuracy finished\n",
      "INFO:root:Optimising model predictions\n",
      "INFO:root:Exporting 16TCP_2022-06-01_to_2022-08-01_valid_data_mean_B04_B03_B02_B08.tif to example/16TCP_2022-06-01_to_2022-08-01_valid_data_mean_B04_B03_B02_B08_OmniWaterMask_0.1.2.tif\n",
      "INFO:rasterio._err:GDAL signalled an error: err_no=1, msg='PROJ: internal_proj_create_from_name: /opt/homebrew/anaconda3/envs/py312/share/proj/proj.db contains DATABASE.LAYOUT.VERSION.MINOR = 2 whereas a number >= 3 is expected. It comes from another PROJ installation.'\n"
     ]
    }
   ],
   "source": [
    "water_mask_path = extract_water(\n",
    "    scene_paths=[mosaic_path],  # you can pass a list of images\n",
    "    band_order=[1, 2, 3, 4],  # band order of the input images, expects RGB+NIR\n",
    "    overwrite=True,\n",
    "    batch_size=1,\n",
    "    inference_dtype=\"bf16\",\n",
    ")"
   ]
  },
  {
   "cell_type": "code",
   "execution_count": 6,
   "metadata": {},
   "outputs": [],
   "source": [
    "import rasterio as rio\n",
    "from rasterio.windows import Window\n",
    "from matplotlib import pyplot as plt\n",
    "import numpy as np"
   ]
  },
  {
   "cell_type": "markdown",
   "metadata": {},
   "source": [
    "Load the full scene at 100m resolution\n"
   ]
  },
  {
   "cell_type": "code",
   "execution_count": null,
   "metadata": {},
   "outputs": [],
   "source": [
    "visual_array = rio.open(mosaic_path).read([1, 2, 3], out_shape=(3, 1098, 1098))\n",
    "water_mask = rio.open(water_mask_path[0]).read(1, out_shape=(1, 1098, 1098))\n",
    "\n",
    "fig, ax = plt.subplots(1, 2, figsize=(30, 15))\n",
    "ax[0].imshow(np.clip((visual_array.transpose(1, 2, 0) / 4000), 0, 1))\n",
    "ax[1].imshow(np.clip((visual_array.transpose(1, 2, 0) / 4000), 0, 1))\n",
    "ax[1].imshow(water_mask, cmap=\"coolwarm_r\", alpha=0.6, interpolation=\"nearest\")"
   ]
  },
  {
   "cell_type": "markdown",
   "metadata": {},
   "source": [
    "Read in a small window to view in more detail\n"
   ]
  },
  {
   "cell_type": "code",
   "execution_count": null,
   "metadata": {},
   "outputs": [],
   "source": [
    "window_size = 1500\n",
    "window = Window(\n",
    "    col_off=10980 - window_size, row_off=0, width=window_size, height=window_size\n",
    ")\n",
    "\n",
    "with rio.open(mosaic_path) as mosaic_ds:\n",
    "    visual_array = mosaic_ds.read([1, 2, 3], window=window)\n",
    "\n",
    "with rio.open(water_mask_path[0]) as mask_ds:\n",
    "    water_mask = mask_ds.read(1, window=window)\n",
    "\n",
    "fig, ax = plt.subplots(1, 2, figsize=(30, 15))\n",
    "\n",
    "ax[0].imshow(np.clip((visual_array.transpose(1, 2, 0) / 4000), 0, 1))\n",
    "ax[1].imshow(np.clip((visual_array.transpose(1, 2, 0) / 4000), 0, 1))\n",
    "ax[1].imshow(water_mask, cmap=\"coolwarm_r\", alpha=0.6, interpolation=\"nearest\")"
   ]
  },
  {
   "cell_type": "code",
   "execution_count": null,
   "metadata": {},
   "outputs": [],
   "source": []
  }
 ],
 "metadata": {
  "kernelspec": {
   "display_name": "py312",
   "language": "python",
   "name": "python3"
  },
  "language_info": {
   "codemirror_mode": {
    "name": "ipython",
    "version": 3
   },
   "file_extension": ".py",
   "mimetype": "text/x-python",
   "name": "python",
   "nbconvert_exporter": "python",
   "pygments_lexer": "ipython3",
   "version": "3.12.8"
  }
 },
 "nbformat": 4,
 "nbformat_minor": 2
}
